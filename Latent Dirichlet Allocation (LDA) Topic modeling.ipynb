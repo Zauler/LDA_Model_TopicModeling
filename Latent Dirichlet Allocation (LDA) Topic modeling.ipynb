{
 "cells": [
  {
   "cell_type": "markdown",
   "metadata": {},
   "source": [
    "# Data"
   ]
  },
  {
   "cell_type": "code",
   "execution_count": 1,
   "metadata": {},
   "outputs": [],
   "source": [
    "import pandas as pd\n",
    "import numpy as np\n",
    "import matplotlib.pyplot as plt"
   ]
  },
  {
   "cell_type": "code",
   "execution_count": 2,
   "metadata": {},
   "outputs": [
    {
     "data": {
      "text/html": [
       "<div>\n",
       "<style scoped>\n",
       "    .dataframe tbody tr th:only-of-type {\n",
       "        vertical-align: middle;\n",
       "    }\n",
       "\n",
       "    .dataframe tbody tr th {\n",
       "        vertical-align: top;\n",
       "    }\n",
       "\n",
       "    .dataframe thead th {\n",
       "        text-align: right;\n",
       "    }\n",
       "</style>\n",
       "<table border=\"1\" class=\"dataframe\">\n",
       "  <thead>\n",
       "    <tr style=\"text-align: right;\">\n",
       "      <th></th>\n",
       "      <th>URI</th>\n",
       "      <th>name</th>\n",
       "      <th>text</th>\n",
       "    </tr>\n",
       "  </thead>\n",
       "  <tbody>\n",
       "    <tr>\n",
       "      <th>0</th>\n",
       "      <td>&lt;http://dbpedia.org/resource/Digby_Morrell&gt;</td>\n",
       "      <td>Digby Morrell</td>\n",
       "      <td>digby morrell born 10 october 1979 is a former...</td>\n",
       "    </tr>\n",
       "    <tr>\n",
       "      <th>1</th>\n",
       "      <td>&lt;http://dbpedia.org/resource/Alfred_J._Lewy&gt;</td>\n",
       "      <td>Alfred J. Lewy</td>\n",
       "      <td>alfred j lewy aka sandy lewy graduated from un...</td>\n",
       "    </tr>\n",
       "    <tr>\n",
       "      <th>2</th>\n",
       "      <td>&lt;http://dbpedia.org/resource/Harpdog_Brown&gt;</td>\n",
       "      <td>Harpdog Brown</td>\n",
       "      <td>harpdog brown is a singer and harmonica player...</td>\n",
       "    </tr>\n",
       "    <tr>\n",
       "      <th>3</th>\n",
       "      <td>&lt;http://dbpedia.org/resource/Franz_Rottensteiner&gt;</td>\n",
       "      <td>Franz Rottensteiner</td>\n",
       "      <td>franz rottensteiner born in waidmannsfeld lowe...</td>\n",
       "    </tr>\n",
       "    <tr>\n",
       "      <th>4</th>\n",
       "      <td>&lt;http://dbpedia.org/resource/G-Enka&gt;</td>\n",
       "      <td>G-Enka</td>\n",
       "      <td>henry krvits born 30 december 1974 in tallinn ...</td>\n",
       "    </tr>\n",
       "  </tbody>\n",
       "</table>\n",
       "</div>"
      ],
      "text/plain": [
       "                                                 URI                 name  \\\n",
       "0        <http://dbpedia.org/resource/Digby_Morrell>        Digby Morrell   \n",
       "1       <http://dbpedia.org/resource/Alfred_J._Lewy>       Alfred J. Lewy   \n",
       "2        <http://dbpedia.org/resource/Harpdog_Brown>        Harpdog Brown   \n",
       "3  <http://dbpedia.org/resource/Franz_Rottensteiner>  Franz Rottensteiner   \n",
       "4               <http://dbpedia.org/resource/G-Enka>               G-Enka   \n",
       "\n",
       "                                                text  \n",
       "0  digby morrell born 10 october 1979 is a former...  \n",
       "1  alfred j lewy aka sandy lewy graduated from un...  \n",
       "2  harpdog brown is a singer and harmonica player...  \n",
       "3  franz rottensteiner born in waidmannsfeld lowe...  \n",
       "4  henry krvits born 30 december 1974 in tallinn ...  "
      ]
     },
     "execution_count": 2,
     "metadata": {},
     "output_type": "execute_result"
    }
   ],
   "source": [
    "df_people = pd.read_csv(\".data/people_wiki.csv\")\n",
    "df_people.columns = [\"URI\",\"name\",\"text\"]\n",
    "df_people.head()"
   ]
  },
  {
   "cell_type": "code",
   "execution_count": 3,
   "metadata": {},
   "outputs": [],
   "source": [
    "df_people_train = df_people.loc[~df_people[\"name\"].str.contains(\"Barack Obama\"),:]\n",
    "df_people_test = df_people.loc[df_people[\"name\"].str.contains(\"Barack Obama\"),:] # We do this because we want to use the text at the end to see how it works on the new data.\n",
    "\n"
   ]
  },
  {
   "cell_type": "code",
   "execution_count": 4,
   "metadata": {},
   "outputs": [
    {
     "name": "stdout",
     "output_type": "stream",
     "text": [
      "['i', 'me', 'my', 'myself', 'we']\n"
     ]
    }
   ],
   "source": [
    "from nltk.corpus import stopwords\n",
    "#nltk.download(\"stopwords\") #only once and first of all download the stopwrods\n",
    "stopwords_en = stopwords.words(\"english\")\n",
    "print(stopwords_en[:5])"
   ]
  },
  {
   "cell_type": "markdown",
   "metadata": {},
   "source": [
    "# Data cleaning"
   ]
  },
  {
   "cell_type": "code",
   "execution_count": 5,
   "metadata": {},
   "outputs": [
    {
     "name": "stdout",
     "output_type": "stream",
     "text": [
      "['i', 'me', 'my', 'myself', 'we']\n"
     ]
    }
   ],
   "source": [
    "# Now we do a lemmatisation \n",
    "import nltk\n",
    "from nltk.tokenize import RegexpTokenizer\n",
    "from nltk.corpus import stopwords\n",
    "from nltk.stem.wordnet import WordNetLemmatizer\n",
    "from time import time\n",
    "\n",
    "tokenizer = RegexpTokenizer(r'[a-zA-Z][a-zA-Z][a-zA-Z]+') # three letters minimum\n",
    "#nltk.download(\"stopwords\") #only once and first of all download stopwords\n",
    "stopwords_en = stopwords.words(\"english\")\n",
    "print(stopwords_en[:5])\n",
    "lemmatizer = WordNetLemmatizer()\n",
    "\n",
    "def clean(text):\n",
    "    tokens = [lemmatizer.lemmatize(token) for token in tokenizer.tokenize(text) if token not in stopwords_en]\n",
    "    return \" \".join(tokens)"
   ]
  },
  {
   "cell_type": "code",
   "execution_count": 6,
   "metadata": {},
   "outputs": [
    {
     "name": "stdout",
     "output_type": "stream",
     "text": [
      "Time 18.892s.\n"
     ]
    },
    {
     "name": "stderr",
     "output_type": "stream",
     "text": [
      "C:\\Users\\caos_\\AppData\\Local\\Temp\\ipykernel_17896\\3780997061.py:2: SettingWithCopyWarning: \n",
      "A value is trying to be set on a copy of a slice from a DataFrame.\n",
      "Try using .loc[row_indexer,col_indexer] = value instead\n",
      "\n",
      "See the caveats in the documentation: https://pandas.pydata.org/pandas-docs/stable/user_guide/indexing.html#returning-a-view-versus-a-copy\n",
      "  df_people_train[\"clean_text\"] = df_people_train[\"text\"].map(clean)\n"
     ]
    }
   ],
   "source": [
    "start = time()\n",
    "df_people_train[\"clean_text\"] = df_people_train[\"text\"].map(clean)\n",
    "print(\"Time {:0.3f}s.\".format(time() - start))"
   ]
  },
  {
   "cell_type": "code",
   "execution_count": 7,
   "metadata": {},
   "outputs": [
    {
     "name": "stdout",
     "output_type": "stream",
     "text": [
      "['aaa' 'aaron' 'aba' ... 'zimbabwe' 'zone' 'zurich']\n"
     ]
    }
   ],
   "source": [
    "# LDA only works with the bag of words, exactly with the bag of words and how many times each term appears, for that you have to use sklearn's CountVectorizer.\n",
    "from sklearn.feature_extraction.text import CountVectorizer\n",
    "\n",
    "c_vect = CountVectorizer(max_features=5000)\n",
    "people_data = c_vect.fit_transform(df_people_train[\"clean_text\"])\n",
    "terms = c_vect.get_feature_names_out()\n",
    "print(terms)"
   ]
  },
  {
   "cell_type": "markdown",
   "metadata": {},
   "source": [
    "## Fit the model"
   ]
  },
  {
   "cell_type": "code",
   "execution_count": 8,
   "metadata": {},
   "outputs": [],
   "source": [
    "from sklearn.decomposition import LatentDirichletAllocation\n",
    "\n",
    "#Number of topics\n",
    "n_topics = 20 \n",
    "\n",
    "lda = LatentDirichletAllocation(n_components=n_topics, max_iter=20, learning_method=\"online\",\n",
    "                                learning_offset=50. , random_state=0, n_jobs=-1) \n",
    "\n",
    "#n_components: This is the number of topics you want to split the dataset into. \n",
    "#max_iter: Represents the maximum number of iterations the algorithm will perform on the data.\n",
    "#lerning_method online updates parameters incrementally using subsets of the data, which is useful for large volumes of data. \n",
    "#n_jobs -1 is to use all available processors."
   ]
  },
  {
   "cell_type": "code",
   "execution_count": 9,
   "metadata": {},
   "outputs": [
    {
     "name": "stdout",
     "output_type": "stream",
     "text": [
      "Time 260.506s\n"
     ]
    }
   ],
   "source": [
    "start = time()\n",
    "document_topic = lda.fit_transform(people_data)\n",
    "topic_term = lda.components_\n",
    "print(\"Time {:0.3f}s\".format(time()-start))"
   ]
  },
  {
   "cell_type": "code",
   "execution_count": 10,
   "metadata": {},
   "outputs": [
    {
     "name": "stdout",
     "output_type": "stream",
     "text": [
      "Model size:  (20, 5000)\n",
      "Size of the transformation result:   (42785, 20)\n"
     ]
    }
   ],
   "source": [
    "print(\"Model size: \", topic_term.shape)\n",
    "print(\"Size of the transformation result:  \", document_topic.shape)"
   ]
  },
  {
   "cell_type": "markdown",
   "metadata": {},
   "source": [
    "# Model study"
   ]
  },
  {
   "cell_type": "code",
   "execution_count": 11,
   "metadata": {},
   "outputs": [
    {
     "name": "stdout",
     "output_type": "stream",
     "text": [
      "Group  0\n",
      "----------------------\n",
      "club:           \t0.0261\n",
      "season:           \t0.0214\n",
      "league:           \t0.0199\n",
      "played:           \t0.0192\n",
      "team:           \t0.0138\n",
      "football:           \t0.0133\n",
      "first:           \t0.0126\n",
      "cup:           \t0.0123\n",
      "made:           \t0.0102\n",
      "goal:           \t0.0101\n",
      "-------------------------\n"
     ]
    }
   ],
   "source": [
    "def topic_relevant_words(model,terms, topic_id, num_words):\n",
    "    print(\"Group \", topic_id)\n",
    "    print(\"----------------------\")\n",
    "    #Extracts the positions of the highest scores\n",
    "    top_term_ids = model[topic_id,:].argsort()[:-num_words-1:-1]\n",
    "    #Extracts the terms from the corresponding positions\n",
    "    top_terms = [terms[id_term] for id_term in top_term_ids]\n",
    "    #Extract and calculate probabilities\n",
    "    top_probabilities = model [topic_id, top_term_ids] / np.sum(model[topic_id,:])\n",
    "    #Print the results\n",
    "    for term, probability in zip(top_terms,top_probabilities):\n",
    "        print(\"{:s}:           \\t{:.4f}\".format(term,probability))\n",
    "    print(\"-------------------------\")\n",
    "    \n",
    "    \n",
    "topic_relevant_words(topic_term, terms, 0, 10)"
   ]
  },
  {
   "cell_type": "code",
   "execution_count": 12,
   "metadata": {},
   "outputs": [
    {
     "name": "stdout",
     "output_type": "stream",
     "text": [
      "Group  3\n",
      "----------------------\n",
      "art:           \t0.0617\n",
      "work:           \t0.0286\n",
      "museum:           \t0.0214\n",
      "new:           \t0.0207\n",
      "artist:           \t0.0206\n",
      "race:           \t0.0176\n",
      "design:           \t0.0163\n",
      "gallery:           \t0.0137\n",
      "york:           \t0.0124\n",
      "exhibition:           \t0.0116\n",
      "-------------------------\n"
     ]
    }
   ],
   "source": [
    "    \n",
    "topic_relevant_words(topic_term, terms, 3, 10)"
   ]
  },
  {
   "cell_type": "code",
   "execution_count": 13,
   "metadata": {},
   "outputs": [
    {
     "name": "stdout",
     "output_type": "stream",
     "text": [
      "Character:  Moana Jackson\n",
      "Composition of the document: \n",
      "[0.04199604 0.08536826 0.21566592 0.00051546 0.0272428  0.00051546\n",
      " 0.00051546 0.00051546 0.00051546 0.00051546 0.06064702 0.12102704\n",
      " 0.00051546 0.09364466 0.10690916 0.00051546 0.00051546 0.24182898\n",
      " 0.00051546 0.00051546]\n",
      "\n",
      "Group  17\n",
      "----------------------\n",
      "law:           \t0.0403\n",
      "state:           \t0.0336\n",
      "court:           \t0.0202\n",
      "district:           \t0.0178\n",
      "new:           \t0.0143\n",
      "served:           \t0.0138\n",
      "united:           \t0.0130\n",
      "county:           \t0.0124\n",
      "house:           \t0.0122\n",
      "judge:           \t0.0119\n",
      "-------------------------\n",
      "Group  2\n",
      "----------------------\n",
      "force:           \t0.0085\n",
      "year:           \t0.0081\n",
      "war:           \t0.0074\n",
      "air:           \t0.0069\n",
      "right:           \t0.0066\n",
      "military:           \t0.0066\n",
      "police:           \t0.0064\n",
      "born:           \t0.0061\n",
      "state:           \t0.0058\n",
      "one:           \t0.0055\n",
      "-------------------------\n"
     ]
    }
   ],
   "source": [
    "character_id = 130\n",
    "print(\"Character: \", df_people_train.iloc[character_id]['name'])\n",
    "print(\"Composition of the document: \")\n",
    "print(document_topic[character_id,:])\n",
    "print()\n",
    "\n",
    "topics = document_topic[character_id,:].argsort()[:-3:-1]\n",
    "for id_topic in topics:\n",
    "    topic_relevant_words(topic_term, terms, id_topic,  10)"
   ]
  },
  {
   "cell_type": "code",
   "execution_count": 14,
   "metadata": {},
   "outputs": [
    {
     "data": {
      "text/plain": [
       "Text(0, 0.5, 'Score')"
      ]
     },
     "execution_count": 14,
     "metadata": {},
     "output_type": "execute_result"
    },
    {
     "data": {
      "image/png": "[encoded data removed]",
      "text/plain": [
       "<Figure size 800x400 with 1 Axes>"
      ]
     },
     "metadata": {},
     "output_type": "display_data"
    }
   ],
   "source": [
    "# AND FERNANDO ALONSO WHERE WOULD HE BE?\n",
    "id_alo = df_people_train.index[df_people_train[\"name\"].str.contains(\"Fernando Alonso\")][0]\n",
    "# Gets the position (needed to access the array)\n",
    "pos_alo = df_people_train.index.get_loc(id_alo)\n",
    "\n",
    "#Graphics\n",
    "plt.figure(figsize=(8,4))\n",
    "plt.bar(range(n_topics), document_topic[pos_alo,:])\n",
    "plt.xticks(range(n_topics))\n",
    "plt.xlabel(\"Grupo\")\n",
    "plt.ylabel(\"Score\")"
   ]
  },
  {
   "cell_type": "markdown",
   "metadata": {},
   "source": [
    "# NEW DATA"
   ]
  },
  {
   "cell_type": "code",
   "execution_count": 16,
   "metadata": {},
   "outputs": [
    {
     "name": "stdout",
     "output_type": "stream",
     "text": [
      "barack hussein obama ii brk husen bm born august 4 1961 is the 44th and current president of the united states and the first african american to hold the office born in honolulu hawaii obama is a graduate of columbia university and harvard law school where he served as president of the harvard law review he was a community organizer in chicago before earning his law degree he worked as a civil rights attorney and taught constitutional law at the university of chicago law school from 1992 to 2004 he served three terms representing the 13th district in the illinois senate from 1997 to 2004 running unsuccessfully for the united states house of representatives in 2000in 2004 obama received national attention during his campaign to represent illinois in the united states senate with his victory in the march democratic party primary his keynote address at the democratic national convention in july and his election to the senate in november he began his presidential campaign in 2007 and after a close primary campaign against hillary rodham clinton in 2008 he won sufficient delegates in the democratic party primaries to receive the presidential nomination he then defeated republican nominee john mccain in the general election and was inaugurated as president on january 20 2009 nine months after his election obama was named the 2009 nobel peace prize laureateduring his first two years in office obama signed into law economic stimulus legislation in response to the great recession in the form of the american recovery and reinvestment act of 2009 and the tax relief unemployment insurance reauthorization and job creation act of 2010 other major domestic initiatives in his first term included the patient protection and affordable care act often referred to as obamacare the doddfrank wall street reform and consumer protection act and the dont ask dont tell repeal act of 2010 in foreign policy obama ended us military involvement in the iraq war increased us troop levels in afghanistan signed the new start arms control treaty with russia ordered us military involvement in libya and ordered the military operation that resulted in the death of osama bin laden in january 2011 the republicans regained control of the house of representatives as the democratic party lost a total of 63 seats and after a lengthy debate over federal spending and whether or not to raise the nations debt limit obama signed the budget control act of 2011 and the american taxpayer relief act of 2012obama was reelected president in november 2012 defeating republican nominee mitt romney and was sworn in for a second term on january 20 2013 during his second term obama has promoted domestic policies related to gun control in response to the sandy hook elementary school shooting and has called for full equality for lgbt americans while his administration has filed briefs which urged the supreme court to strike down the defense of marriage act of 1996 and californias proposition 8 as unconstitutional in foreign policy obama ordered us military involvement in iraq in response to gains made by the islamic state in iraq after the 2011 withdrawal from iraq continued the process of ending us combat operations in afghanistan and has sought to normalize us relations with cuba\n"
     ]
    },
    {
     "name": "stderr",
     "output_type": "stream",
     "text": [
      "C:\\Users\\caos_\\AppData\\Local\\Temp\\ipykernel_17896\\1699110821.py:2: UserWarning: Boolean Series key will be reindexed to match DataFrame index.\n",
      "  text_char = df_people_test[df_people[\"name\"].str.contains(\"Barack Obama\")].iloc[0].text\n"
     ]
    },
    {
     "data": {
      "text/plain": [
       "Text(0, 0.5, 'Score')"
      ]
     },
     "execution_count": 16,
     "metadata": {},
     "output_type": "execute_result"
    },
    {
     "data": {
      "image/png": "[encoded data removed]",
      "text/plain": [
       "<Figure size 800x400 with 1 Axes>"
      ]
     },
     "metadata": {},
     "output_type": "display_data"
    }
   ],
   "source": [
    "# Extract the text\n",
    "text_char = df_people_test[df_people[\"name\"].str.contains(\"Barack Obama\")].iloc[0].text\n",
    "print(text_char)\n",
    "#Clean text\n",
    "text_char = clean(text_char)\n",
    "#Vectorize \n",
    "vec_per = c_vect.transform([text_char])\n",
    "#catalogues\n",
    "topic_per = lda.transform(vec_per)\n",
    "\n",
    "#plot the figure\n",
    "plt.figure(figsize=(8,4))\n",
    "plt.bar(range(n_topics), topic_per[0])\n",
    "plt.xticks(range(n_topics))\n",
    "plt.xlabel('Group')\n",
    "plt.ylabel('Score')"
   ]
  },
  {
   "cell_type": "code",
   "execution_count": 17,
   "metadata": {},
   "outputs": [
    {
     "name": "stdout",
     "output_type": "stream",
     "text": [
      "Group  17\n",
      "----------------------\n",
      "law:           \t0.0403\n",
      "state:           \t0.0336\n",
      "court:           \t0.0202\n",
      "district:           \t0.0178\n",
      "new:           \t0.0143\n",
      "served:           \t0.0138\n",
      "united:           \t0.0130\n",
      "county:           \t0.0124\n",
      "house:           \t0.0122\n",
      "judge:           \t0.0119\n",
      "-------------------------\n"
     ]
    }
   ],
   "source": [
    "topic_relevant_words(topic_term, terms, 17, 10)"
   ]
  }
 ],
 "metadata": {
  "kernelspec": {
   "display_name": "Python 3",
   "language": "python",
   "name": "python3"
  },
  "language_info": {
   "codemirror_mode": {
    "name": "ipython",
    "version": 3
   },
   "file_extension": ".py",
   "mimetype": "text/x-python",
   "name": "python",
   "nbconvert_exporter": "python",
   "pygments_lexer": "ipython3",
   "version": "3.10.9"
  }
 },
 "nbformat": 4,
 "nbformat_minor": 2
}
